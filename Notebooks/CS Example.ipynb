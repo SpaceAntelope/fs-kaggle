{
 "cells": [
  {
   "cell_type": "code",
   "execution_count": 1,
   "metadata": {},
   "outputs": [
    {
     "data": {
      "text/html": [
       "Installed package FSharp.Core version 4.7.0"
      ]
     },
     "metadata": {},
     "output_type": "display_data"
    },
    {
     "data": {
      "text/html": [
       "Installed package TaskBuilder.fs version 2.1.0"
      ]
     },
     "metadata": {},
     "output_type": "display_data"
    }
   ],
   "source": [
    "#r \"nuget:TaskBuilder.fs,2.1.0\"\n",
    "#r \"nuget:FSharp.Core,4.7.0.0\"    "
   ]
  },
  {
   "cell_type": "code",
   "execution_count": 2,
   "metadata": {},
   "outputs": [],
   "source": [
    "#r \"C:\\Users\\Ares\\Source\\Repos\\Ds-Ai\\fs-kaggle\\FsKaggleDatasetDownloader\\bin\\Debug\\netstandard2.1\\FsKaggleDatasetDownloader.dll\"\n",
    "// https://github.com/dotnet/interactive/issues/49"
   ]
  },
  {
   "cell_type": "code",
   "execution_count": 3,
   "metadata": {
    "scrolled": false
   },
   "outputs": [
    {
     "name": "stdout",
     "output_type": "stream",
     "text": [
      "[||||||||||||||||||||||||||||||||||||||||||||||||| 100.00%] [humidity.csv] 1.94 of 1.94MB @ 2127.81KB/s\n",
      "[||||||||||||||||||||||||||||||||||||||||||||||| 100.00%] [wind_speed.csv] 1.01 of 1.01MB @ 1293.64KB/s\r"
     ]
    },
    {
     "data": {
      "text/html": [
       "<table><thead><tr><th><i>index</i></th><th>Notes</th><th>BytesRead</th><th>TotalBytes</th><th>TimeStamp</th><th>BytesPerSecond</th></tr></thead><tbody><tr><td>0</td><td></td><td>0</td><td>0</td><td>2020-02-05 08:50:30Z</td><td>0</td></tr></tbody></table>"
      ]
     },
     "execution_count": 3,
     "metadata": {},
     "output_type": "execute_result"
    }
   ],
   "source": [
    "using System;\n",
    "using System.IO;\n",
    "using FsKaggleDatasetDownloader.Interop;\n",
    "using Core = FsKaggleDatasetDownloader.Core;\n",
    "\n",
    "var report = new List<Core.ReportingData>(){new Core.ReportingData(\"\", 0,0,DateTime.Now,0)};\n",
    "\n",
    "void asciiProgressReport(Core.ReportingData data) {\n",
    "    report.Add(data);\n",
    "    var percent = (int)Math.Ceiling(100.0*data.BytesRead/data.TotalBytes);\n",
    "    var bar = \"[\".PadRight(percent,'|') + \"]\".PadLeft(100-percent, ' ');\n",
    "    var status = $\"{percent}% @ {Math.Round(data.BytesPerSecond/1024,2)}KB/s\";\n",
    "    Console.Write($\"{bar} {status}\\r\");\n",
    "}\n",
    "\n",
    "var options = new DownloadDatasetOptions {\n",
    "    DatasetInfo = new DatasetInfo {\n",
    "        Owner = \"selfishgene\",\n",
    "        Dataset = \"historical-hourly-weather-data\",\n",
    "        Request = \"humidity.csv\"\n",
    "    },\n",
    "    KaggleJsonPath = @\"C:\\Users\\Ares\\.kaggle\\kaggle.json\",\n",
    "    DestinationFolder = \"../Data\",\n",
    "    //ReportingCallback = asciiProgressReport,\n",
    "    ReportingCallback = FsKaggleDatasetDownloader.Reporter.ProgressBar,\n",
    "    Overwrite = true\n",
    "};\n",
    "\n",
    "await Kaggle.DownloadDatasetAsync(options);\n",
    "\n",
    "options.DatasetInfo.Request = \"wind_speed.csv\";\n",
    "Console.WriteLine();\n",
    "await Kaggle.DownloadDatasetAsync(options);\n",
    "\n",
    "report"
   ]
  },
  {
   "cell_type": "code",
   "execution_count": null,
   "metadata": {},
   "outputs": [],
   "source": []
  }
 ],
 "metadata": {
  "kernelspec": {
   "display_name": ".NET (C#)",
   "language": "C#",
   "name": ".net-csharp"
  },
  "language_info": {
   "file_extension": ".cs",
   "mimetype": "text/x-csharp",
   "name": "C#",
   "pygments_lexer": "csharp",
   "version": "8.0"
  }
 },
 "nbformat": 4,
 "nbformat_minor": 2
}
