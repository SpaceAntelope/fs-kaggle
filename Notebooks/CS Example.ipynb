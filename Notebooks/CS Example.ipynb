ed{
 "cells": [
  {
   "cell_type": "code",
   "execution_count": 1,
   "metadata": {},
   "outputs": [
    {
     "data": {
      "text/html": [
       "Installed package TaskBuilder.fs version 2.1.0"
      ]
     },
     "metadata": {},
     "output_type": "display_data"
    },
    {
     "data": {
      "text/html": [
       "Installed package FSharp.Core version 4.7.0"
      ]
     },
     "metadata": {},
     "output_type": "display_data"
    }
   ],
   "source": [
    "#r \"nuget:TaskBuilder.fs,2.1.0\"\n",
    "#r \"nuget:FSharp.Core,4.7.0.0\"    "
   ]
  },
  {
   "cell_type": "code",
   "execution_count": 2,
   "metadata": {},
   "outputs": [],
   "source": [
    "#r \"C:\\Users\\Ares\\Source\\Repos\\Ds-Ai\\fs-kaggle\\FsKaggleDatasetDownloader\\bin\\Debug\\netstandard2.1\\FsKaggleDatasetDownloader.dll\"\n",
    "// https://github.com/dotnet/interactive/issues/49"
   ]
  },
  {
   "cell_type": "code",
   "execution_count": 26,
   "metadata": {
    "scrolled": true
   },
   "outputs": [
    {
     "name": "stdout",
     "output_type": "stream",
     "text": [
      "100%                                              \r"
     ]
    },
    {
     "data": {
      "text/html": [
       "<table><thead><tr><th><i>index</i></th><th>Notes</th><th>BytesRead</th><th>TotalBytes</th><th>BytesPerSecond</th></tr></thead><tbody><tr><td>0</td><td>12:50:23.338</td><td>0</td><td>0</td><td>0</td></tr><tr><td>1</td><td>12:50:27.362 humidity.csv</td><td>32766</td><td>2033016</td><td>79.09122314380106</td></tr><tr><td>2</td><td>12:50:27.933 humidity.csv</td><td>237699</td><td>2033016</td><td>350.7593442331751</td></tr><tr><td>3</td><td>12:50:28.387 humidity.csv</td><td>649391</td><td>2033016</td><td>885.1781720558422</td></tr><tr><td>4</td><td>12:50:28.740 humidity.csv</td><td>953831</td><td>2033016</td><td>841.721692918268</td></tr><tr><td>5</td><td>12:50:29.108 humidity.csv</td><td>1251881</td><td>2033016</td><td>791.946606661653</td></tr><tr><td>6</td><td>12:50:29.528 humidity.csv</td><td>1546793</td><td>2033016</td><td>686.7188572998214</td></tr><tr><td>7</td><td>12:50:30.135 humidity.csv</td><td>1808937</td><td>2033016</td><td>421.51484201508464</td></tr><tr><td>8</td><td>12:50:30.203 humidity.csv</td><td>2033016</td><td>2033016</td><td>3223.108476806219</td></tr></tbody></table>"
      ]
     },
     "execution_count": 26,
     "metadata": {},
     "output_type": "execute_result"
    }
   ],
   "source": [
    "using System;\n",
    "using FsKaggleDatasetDownloader.Interop;\n",
    "using Core = FsKaggleDatasetDownloader.Core;\n",
    "var report = new List<Core.ReportingData>(){new Core.ReportingData(DateTime.Now.ToString(\"hh:mm:ss.fff\"), 0,0,0)};\n",
    "\n",
    "var options = new DownloadDatasetOptions {\n",
    "    DatasetInfo = new DatasetInfo {\n",
    "        Owner = \"selfishgene\",\n",
    "        Dataset = \"historical-hourly-weather-data\",\n",
    "        Request = \"humidity.csv\"\n",
    "    },\n",
    "    KaggleJsonPath = @\"C:\\Users\\Ares\\.kaggle\\kaggle.json\",\n",
    "    DestinationFolder = \"../Data\",\n",
    "    ReportingCallback = data => {\n",
    "            var notes = $\"{DateTime.Now.ToString(\"hh:mm:ss.fff\")} {data.Notes}\";\n",
    "            report.Add(new Core.ReportingData(notes, data.BytesRead,data.TotalBytes,data.BytesPerSecond/1024));\n",
    "            \n",
    "            Console.Write($\"{Math.Round(100.0*(double)data.BytesRead/(double)data.TotalBytes,2)}%\".PadRight(50,' ') + \"\\r\");\n",
    "        },\n",
    "    Overwrite = true\n",
    "};\n",
    "\n",
    "await Kaggle.DownloadDatasetAsync(options);\n",
    "\n",
    "report"
   ]
  },
  {
   "cell_type": "code",
   "execution_count": null,
   "metadata": {},
   "outputs": [],
   "source": [
    "System.IO.Path.GetFullPath(\".\")"
   ]
  },
  {
   "cell_type": "code",
   "execution_count": null,
   "metadata": {},
   "outputs": [],
   "source": [
    "System.DateTime.Now.ToString(\"hh:mm:ss.fff\")"
   ]
  },
  {
   "cell_type": "code",
   "execution_count": null,
   "metadata": {},
   "outputs": [],
   "source": [
    "var report = new List<FsKaggleDatasetDownloader.Core.ReportData>();"
   ]
  },
  {
   "cell_type": "code",
   "execution_count": null,
   "metadata": {},
   "outputs": [],
   "source": [
    "(\"123\",new FsKaggleDatasetDownloader.Core.ReportingData(\"1\",1,2,3))"
   ]
  },
  {
   "cell_type": "code",
   "execution_count": 10,
   "metadata": {},
   "outputs": [
    {
     "name": "stdout",
     "output_type": "stream",
     "text": [
      "123\n",
      "123\r"
     ]
    }
   ],
   "source": [
    "Console.Write(\"123\\r\");\n",
    "Console.Write(\"123\\n\");\n",
    "Console.Write(\"123\\r\");\n",
    "Console.Write(\"123\\r\");"
   ]
  },
  {
   "cell_type": "code",
   "execution_count": 13,
   "metadata": {},
   "outputs": [
    {
     "data": {
      "text/plain": [
       "1230.12"
      ]
     },
     "execution_count": 13,
     "metadata": {},
     "output_type": "execute_result"
    }
   ],
   "source": [
    "\n",
    "Math.Round(1230.12312,2)"
   ]
  },
  {
   "cell_type": "code",
   "execution_count": 19,
   "metadata": {},
   "outputs": [
    {
     "data": {
      "text/plain": [
       "1"
      ]
     },
     "execution_count": 19,
     "metadata": {},
     "output_type": "execute_result"
    }
   ],
   "source": [
    "using System.Linq;\n",
    "var data = report.Last();\n",
    "Math.Round(100.0*(double)data.BytesRead/(double)data.TotalBytes,2)/100.0"
   ]
  },
  {
   "cell_type": "code",
   "execution_count": 22,
   "metadata": {},
   "outputs": [
    {
     "ename": "Unhandled exception",
     "evalue": "System.IO.IOException: The handle is invalid.\r\n   at System.ConsolePal.GetBufferInfo(Boolean throwOnNoConsole, Boolean& succeeded)\r\n   at System.ConsolePal.Clear()\r\n   at System.Console.Clear()\r\n   at Submission#23.<<Initialize>>d__0.MoveNext()\r\n--- End of stack trace from previous location where exception was thrown ---\r\n   at Microsoft.CodeAnalysis.Scripting.ScriptExecutionState.RunSubmissionsAsync[TResult](ImmutableArray`1 precedingExecutors, Func`2 currentExecutor, StrongBox`1 exceptionHolderOpt, Func`2 catchExceptionOpt, CancellationToken cancellationToken)",
     "output_type": "error",
     "traceback": [
      "System.IO.IOException: The handle is invalid.\r\n   at System.ConsolePal.GetBufferInfo(Boolean throwOnNoConsole, Boolean& succeeded)\r\n   at System.ConsolePal.Clear()\r\n   at System.Console.Clear()\r\n   at Submission#23.<<Initialize>>d__0.MoveNext()\r\n--- End of stack trace from previous location where exception was thrown ---\r\n   at Microsoft.CodeAnalysis.Scripting.ScriptExecutionState.RunSubmissionsAsync[TResult](ImmutableArray`1 precedingExecutors, Func`2 currentExecutor, StrongBox`1 exceptionHolderOpt, Func`2 catchExceptionOpt, CancellationToken cancellationToken)",
      "   at System.ConsolePal.GetBufferInfo(Boolean throwOnNoConsole, Boolean& succeeded)",
      "   at System.ConsolePal.Clear()",
      "   at System.Console.Clear()",
      "   at Submission#23.<<Initialize>>d__0.MoveNext()",
      "--- End of stack trace from previous location where exception was thrown ---",
      "   at Microsoft.CodeAnalysis.Scripting.ScriptExecutionState.RunSubmissionsAsync[TResult](ImmutableArray`1 precedingExecutors, Func`2 currentExecutor, StrongBox`1 exceptionHolderOpt, Func`2 catchExceptionOpt, CancellationToken cancellationToken)"
     ]
    }
   ],
   "source": [
    "Console.Clear()"
   ]
  },
  {
   "cell_type": "code",
   "execution_count": null,
   "metadata": {},
   "outputs": [],
   "source": []
  }
 ],
 "metadata": {
  "kernelspec": {
   "display_name": ".NET (C#)",
   "language": "C#",
   "name": ".net-csharp"
  },
  "language_info": {
   "file_extension": ".cs",
   "mimetype": "text/x-csharp",
   "name": "C#",
   "pygments_lexer": "csharp",
   "version": "8.0"
  }
 },
 "nbformat": 4,
 "nbformat_minor": 2
}
