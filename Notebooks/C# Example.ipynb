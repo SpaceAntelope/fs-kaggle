{
 "cells": [
  {
   "cell_type": "code",
   "execution_count": 4,
   "metadata": {},
   "outputs": [
    {
     "data": {
      "text/html": [
       "Installed package TaskBuilder.fs version 2.1.0"
      ]
     },
     "metadata": {},
     "output_type": "display_data"
    },
    {
     "data": {
      "text/html": [
       "Installed package FSharp.Core version 4.7.0"
      ]
     },
     "metadata": {},
     "output_type": "display_data"
    }
   ],
   "source": [
    "#r \"nuget:TaskBuilder.fs,2.1.0\"\n",
    "#r \"nuget:FSharp.Core,4.7.0.0\"    "
   ]
  },
  {
   "cell_type": "code",
   "execution_count": 5,
   "metadata": {},
   "outputs": [],
   "source": [
    "/* Can't have local dlls referenced along with packages\n",
    " * see https://github.com/dotnet/interactive/issues/49 \n",
    " */\n",
    "#r \"..\\bin\\Debug\\netstandard2.1\\FsKaggle.dll\""
   ]
  },
  {
   "cell_type": "markdown",
   "metadata": {},
   "source": [
    "# Minimum code needed to get things going\n",
    "\n",
    "If you're already setup with a kaggle account and the <code>kaggle.json</code> file is under *~/.kaggle*, you can just declare the name of the dataset and the dataset owner and sit back while the requested dataset zip is downloaded to the current directory."
   ]
  },
  {
   "cell_type": "code",
   "execution_count": 6,
   "metadata": {},
   "outputs": [
    {
     "name": "stdout",
     "output_type": "stream",
     "text": [
      "historical-hourly-weather-data.zip [||||||||||||||||||||||||||||||||||||||||||||||||||||||||||||||| 100.00%] 11.97 of 11.97MB @ 868.86KB/s\r"
     ]
    }
   ],
   "source": [
    "using FsKaggle.Interop;\n",
    "using Kaggle = FsKaggle.Interop.Kaggle;\n",
    "\n",
    "var options = new DatasetInfo { Owner = \"selfishgene\", Dataset = \"historical-hourly-weather-data\" };\n",
    "\n",
    "// If you are just trying things out, consider using the Request parameter to target \n",
    "// a specific file from the dataset to reduce the waiting.\n",
    "await Kaggle.DownloadDatasetAsync(options);    "
   ]
  },
  {
   "cell_type": "markdown",
   "metadata": {},
   "source": [
    "# Setup a custom progress tracker\n",
    "\n",
    "(default progress tracker at <code>FsKaggle.Reporter.ProgressBar</code>)\n",
    "\n",
    "Waiting for kaggle data to travel over the net can be tedious, so consider the reporting callback property to visualise your progress or even make a rough estimation of the time remaining.\n",
    "\n",
    "All you need is a function that takes an FsKaggle.ProgressData argument, which is an F# record that looks like this:\n",
    "\n",
    "<code>type ProgressData = { TimeStamp: DateTime; Notes: string; BytesRead: int64; TotalBytes: int64; BytesPerSecond: float }</code>"
   ]
  },
  {
   "cell_type": "code",
   "execution_count": 7,
   "metadata": {},
   "outputs": [],
   "source": [
    "using FsKaggle;\n",
    "using System;\n",
    "\n",
    "// A log of progress reports.\n",
    "var report = new List<ProgressData>();\n",
    "\n",
    "// A progress reporting function\n",
    "void simpleProgressTracking(ProgressData data) {\n",
    "    report.Add(data);\n",
    "        \n",
    "    var percent = (int)(Math.Ceiling(100.0*data.BytesRead/data.TotalBytes));\n",
    "    \n",
    "    var bar = \"[\".PadRight(percent,'|') + \"]\".PadLeft(100-percent, ' ');\n",
    "    \n",
    "    var status = $\"{percent}% @ {Math.Round(data.BytesPerSecond/1024,2)}KB/s\";\n",
    "    \n",
    "    // Since it considers only the latest speed, this metric is likely to fluctuate wildly.\n",
    "    var remainingTime = TimeSpan.FromSeconds((data.TotalBytes - data.BytesRead)/data.BytesPerSecond);\n",
    "    \n",
    "    // We end the string with a carriage return (\\r) so it updates the same line\n",
    "    // instead of adding a line every iteration.\n",
    "    Console.Write($\"{bar} {status} {remainingTime.ToString(\"mm\\\\:ss\")}\\r\");\n",
    "}"
   ]
  },
  {
   "cell_type": "code",
   "execution_count": 8,
   "metadata": {},
   "outputs": [
    {
     "name": "stdout",
     "output_type": "stream",
     "text": [
      "[|||||||||||||||||||||||||||||||||||||||||||||||||||||||||||||||||||||||||||||||||||||||||||||||||||] 100% @ 1537.59KB/s 00:00\r"
     ]
    }
   ],
   "source": [
    "await Kaggle.DownloadDatasetAsync(\n",
    "    new DownloadDatasetOptions \n",
    "    {\n",
    "        DatasetInfo = options, \n",
    "        ReportingCallback = simpleProgressTracking, \n",
    "        Overwrite = true \n",
    "    });"
   ]
  },
  {
   "cell_type": "markdown",
   "metadata": {},
   "source": [
    "The <code>DownloadDatasetOptions</code> type, other than the reporting callback, contains a few additional parameters:\n",
    "* **KaggleJsonPath**: Where to look the API key info. By default it checks *~/.kaggle/kaggle.json*\n",
    "* **DestinationFolder**: Send incoming files to some other existing directory.\n",
    "* **Overwrite**: Default is false, otherwise any existing file with the same name will be overwritten without confirmation.\n",
    "* **CancellationToken**: In case you think you might need to manually stop the download."
   ]
  },
  {
   "cell_type": "code",
   "execution_count": 9,
   "metadata": {},
   "outputs": [],
   "source": [
    "using System.IO;\n",
    "\n",
    "if (!Directory.Exists(\"Data\")) \n",
    "    Directory.CreateDirectory(\"Data\");\n",
    "\n",
    "var advancedOptions = new DownloadDatasetOptions {\n",
    "    DatasetInfo = options,\n",
    "    KaggleJsonPath = @\"C:\\Credentials\\kaggle.json\",\n",
    "    DestinationFolder = \"Data\",\n",
    "    ReportingCallback = FsKaggle.Reporter.ProgressBar,\n",
    "    Overwrite = true\n",
    "};"
   ]
  },
  {
   "cell_type": "markdown",
   "metadata": {},
   "source": [
    "# Obligatory jupyter notebook data plot\n",
    "\n",
    "Oh so that's why we logged the progress reports..."
   ]
  },
  {
   "cell_type": "code",
   "execution_count": 12,
   "metadata": {},
   "outputs": [
    {
     "data": {
      "text/html": [
       "<div id=\"06bfc906-8130-49ba-9b69-d28b4722d060\" style=\"width: 900px; height: 500px;\"></div>\r\n",
       "<script type=\"text/javascript\">\r\n",
       "\r\n",
       "var renderPlotly = function() {\r\n",
       "    var xplotRequire = requirejs.config({context:'xplot-3.0.1',paths:{plotly:'https://cdn.plot.ly/plotly-1.49.2.min'}});\r\n",
       "    xplotRequire(['plotly'], function(Plotly) {\r\n",
       "\n",
       "            var data = [{\"type\":\"scatter\",\"showlegend\":true,\"x\":[\"2020-02-07T00:13:06.4127054+02:00\",\"2020-02-07T00:13:06.7791947+02:00\",\"2020-02-07T00:13:07.1356075+02:00\",\"2020-02-07T00:13:07.4861225+02:00\",\"2020-02-07T00:13:08.0494881+02:00\",\"2020-02-07T00:13:08.417141+02:00\",\"2020-02-07T00:13:08.7731212+02:00\",\"2020-02-07T00:13:09.1955195+02:00\",\"2020-02-07T00:13:10.0716594+02:00\",\"2020-02-07T00:13:11.1073748+02:00\",\"2020-02-07T00:13:12.9777018+02:00\",\"2020-02-07T00:13:14.345105+02:00\",\"2020-02-07T00:13:14.7379676+02:00\",\"2020-02-07T00:13:15.2282126+02:00\",\"2020-02-07T00:13:15.6903225+02:00\",\"2020-02-07T00:13:16.3800551+02:00\",\"2020-02-07T00:13:17.0222496+02:00\",\"2020-02-07T00:13:17.7048609+02:00\",\"2020-02-07T00:13:18.692711+02:00\",\"2020-02-07T00:13:19.6367172+02:00\",\"2020-02-07T00:13:19.9906187+02:00\",\"2020-02-07T00:13:20.3781333+02:00\",\"2020-02-07T00:13:20.806648+02:00\",\"2020-02-07T00:13:21.6895869+02:00\",\"2020-02-07T00:13:22.9435574+02:00\",\"2020-02-07T00:13:23.5925159+02:00\",\"2020-02-07T00:13:23.9667277+02:00\",\"2020-02-07T00:13:24.8821075+02:00\",\"2020-02-07T00:13:29.7023397+02:00\",\"2020-02-07T00:13:30.2494785+02:00\",\"2020-02-07T00:13:31.1397574+02:00\",\"2020-02-07T00:13:31.5146905+02:00\",\"2020-02-07T00:13:31.9771814+02:00\",\"2020-02-07T00:13:32.5460023+02:00\",\"2020-02-07T00:13:33.1756594+02:00\",\"2020-02-07T00:13:33.5862591+02:00\",\"2020-02-07T00:13:34.2442296+02:00\",\"2020-02-07T00:13:34.899854+02:00\",\"2020-02-07T00:13:35.3695002+02:00\",\"2020-02-07T00:13:35.7554192+02:00\",\"2020-02-07T00:13:36.6953366+02:00\",\"2020-02-07T00:13:37.3478718+02:00\",\"2020-02-07T00:13:37.8756175+02:00\",\"2020-02-07T00:13:38.3739095+02:00\",\"2020-02-07T00:13:39.2907824+02:00\",\"2020-02-07T00:13:39.7814195+02:00\",\"2020-02-07T00:13:40.3340837+02:00\",\"2020-02-07T00:13:40.6930258+02:00\",\"2020-02-07T00:13:41.15114+02:00\",\"2020-02-07T00:13:41.6749114+02:00\",\"2020-02-07T00:13:42.1489836+02:00\",\"2020-02-07T00:13:42.634177+02:00\",\"2020-02-07T00:13:43.0337271+02:00\",\"2020-02-07T00:13:43.4445827+02:00\",\"2020-02-07T00:13:43.8898205+02:00\",\"2020-02-07T00:13:44.3974785+02:00\",\"2020-02-07T00:13:44.9448394+02:00\",\"2020-02-07T00:13:45.3870673+02:00\",\"2020-02-07T00:13:45.8270234+02:00\",\"2020-02-07T00:13:46.3341013+02:00\",\"2020-02-07T00:13:47.0697441+02:00\",\"2020-02-07T00:13:47.8722999+02:00\",\"2020-02-07T00:13:48.4577905+02:00\",\"2020-02-07T00:13:48.8978449+02:00\",\"2020-02-07T00:13:49.2813967+02:00\",\"2020-02-07T00:13:49.6444657+02:00\",\"2020-02-07T00:13:50.2635479+02:00\",\"2020-02-07T00:13:50.659392+02:00\",\"2020-02-07T00:13:51.2347682+02:00\",\"2020-02-07T00:13:51.6190079+02:00\",\"2020-02-07T00:13:52.2447599+02:00\",\"2020-02-07T00:13:52.6396498+02:00\",\"2020-02-07T00:13:53.0602473+02:00\",\"2020-02-07T00:13:53.5388981+02:00\",\"2020-02-07T00:13:53.9368581+02:00\",\"2020-02-07T00:13:54.6427018+02:00\",\"2020-02-07T00:13:55.2736486+02:00\",\"2020-02-07T00:13:55.666105+02:00\",\"2020-02-07T00:13:56.0168868+02:00\",\"2020-02-07T00:13:56.3918058+02:00\",\"2020-02-07T00:13:56.8341976+02:00\",\"2020-02-07T00:13:57.2016319+02:00\",\"2020-02-07T00:13:57.6156819+02:00\",\"2020-02-07T00:13:57.982706+02:00\",\"2020-02-07T00:13:58.3335103+02:00\",\"2020-02-07T00:13:58.714804+02:00\",\"2020-02-07T00:13:59.0767742+02:00\",\"2020-02-07T00:14:00.0098196+02:00\",\"2020-02-07T00:14:00.7722825+02:00\",\"2020-02-07T00:14:01.330266+02:00\",\"2020-02-07T00:14:01.7641087+02:00\",\"2020-02-07T00:14:02.1143907+02:00\",\"2020-02-07T00:14:02.4681927+02:00\",\"2020-02-07T00:14:03.0427016+02:00\",\"2020-02-07T00:14:03.4501672+02:00\",\"2020-02-07T00:14:04.1031342+02:00\",\"2020-02-07T00:14:04.9617707+02:00\",\"2020-02-07T00:14:05.3956416+02:00\",\"2020-02-07T00:14:05.7616699+02:00\",\"2020-02-07T00:14:06.11188+02:00\",\"2020-02-07T00:14:06.4936231+02:00\",\"2020-02-07T00:14:06.9017336+02:00\",\"2020-02-07T00:14:07.2773465+02:00\",\"2020-02-07T00:14:07.7537978+02:00\",\"2020-02-07T00:14:08.1043775+02:00\",\"2020-02-07T00:14:08.4974854+02:00\",\"2020-02-07T00:14:08.8993031+02:00\",\"2020-02-07T00:14:09.3053677+02:00\",\"2020-02-07T00:14:09.8504462+02:00\",\"2020-02-07T00:14:10.3140786+02:00\",\"2020-02-07T00:14:10.7380551+02:00\",\"2020-02-07T00:14:11.1173696+02:00\",\"2020-02-07T00:14:11.5124119+02:00\",\"2020-02-07T00:14:11.8711171+02:00\",\"2020-02-07T00:14:12.2322686+02:00\",\"2020-02-07T00:14:12.2863651+02:00\"],\"y\":[189555.6514544982,456865.4461819909,377226.9530209181,474533.18766160036,87793.70592180462,843240.2919789086,651074.7330560705,77617.39607469349,37409.91161725715,31644.20663218844,8760.966046230138,107856.19788031148,432815.0962156567,133727.61649949354,215400.26953448472,95045.87033553937,100225.16979634407,48025.999231126734,16882.232204908218,4433.7406391008235,26939.61404083184,84605.59303697622,73718.59745798423,71542.5662069503,10449.423307645668,101018.55546980117,168852.24906843042,140613.7968697177,4080.2481302061183,965149.1246370368,36815.28877104481,54019.61482709961,126290.29031194068,162397.85178815422,52051.52223857128,50813.669164473504,48001.36204263832,45423.09842739207,139579.8080394272,166806.6119138988,102066.49484980354,26493.856521473896,98226.95270705059,126774.86110349974,70189.64238898075,210126.983829266,57149.641495812284,149452.8108588367,143093.67137582897,158165.12338812262,202402.27415061183,196486.93863120276,161102.05876137817,165363.30477291215,224900.44651633012,193689.44864985428,183994.3248040928,222353.36188900835,149006.95377910518,126925.70728361628,178203.9997465727,122508.20291767023,109923.15031600022,300659.77251669206,262619.2808134766,267602.3503969684,102033.06792952394,326669.21728266403,117060.03355449771,353640.3061848783,228543.64366487577,402974.609022724,161534.87384235283,65987.75161004096,652952.9832728589,96242.15193132596,40616.83951782919,671206.5430498957,543745.3583443707,394219.241995265,478251.9725454683,449295.0115841889,585802.3317869101,417334.3054353677,480820.67240291706,543979.8871723262,475849.4854501054,68971.90433309061,44547.80352265964,56606.54712073327,307699.68580757274,593838.1205816551,569357.6277953013,187739.18543631968,671403.6838156442,310278.94055770955,118666.1890992321,151092.9663476014,148151.103958859,343794.5979174594,287298.73051245953,665909.7504921916,452205.4319514651,499056.0022740761,270354.34510183777,747449.5774807024,614070.4871192853,666307.0080467458,195701.75874846007,70697.5732660993,157432.40341879375,86422.48166080547,264019.69150980905,368956.4732734395,569395.5303963298,1574488.3635979297],\"fill\":\"tozeroy\",\"name\":\"Bytes/sec\"}];\n",
       "            var layout = \"\";\n",
       "            Plotly.newPlot('06bfc906-8130-49ba-9b69-d28b4722d060', data, layout);\n",
       "        \r\n",
       "});\r\n",
       "};\r\n",
       "if ((typeof(requirejs) !==  typeof(Function)) || (typeof(requirejs.config) !== typeof(Function))) { \r\n",
       "    var script = document.createElement(\"script\"); \r\n",
       "    script.setAttribute(\"src\", \"https://cdnjs.cloudflare.com/ajax/libs/require.js/2.3.6/require.min.js\"); \r\n",
       "    script.onload = function(){\r\n",
       "        renderPlotly();\r\n",
       "    };\r\n",
       "    document.getElementsByTagName(\"head\")[0].appendChild(script); \r\n",
       "}\r\n",
       "else {\r\n",
       "    renderPlotly();\r\n",
       "}\r\n",
       "</script>\r\n"
      ]
     },
     "execution_count": 12,
     "metadata": {},
     "output_type": "execute_result"
    }
   ],
   "source": [
    "using XPlot.Plotly;\n",
    "using System.Linq;\n",
    "\n",
    "Chart.Plot(\n",
    "    new Graph.Scatter\n",
    "    { \n",
    "        name = \"Bytes/sec\", \n",
    "        showlegend=true,\n",
    "        x = report.Select(r => r.TimeStamp), \n",
    "        y = report.Select(r => r.BytesPerSecond), \n",
    "        fill=\"tozeroy\"\n",
    "    })"
   ]
  },
  {
   "cell_type": "code",
   "execution_count": null,
   "metadata": {},
   "outputs": [],
   "source": []
  }
 ],
 "metadata": {
  "kernelspec": {
   "display_name": ".NET (C#)",
   "language": "C#",
   "name": ".net-csharp"
  },
  "language_info": {
   "file_extension": ".cs",
   "mimetype": "text/x-csharp",
   "name": "C#",
   "pygments_lexer": "csharp",
   "version": "8.0"
  }
 },
 "nbformat": 4,
 "nbformat_minor": 2
}
