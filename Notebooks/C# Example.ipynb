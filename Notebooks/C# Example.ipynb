{
 "cells": [
  {
   "cell_type": "code",
   "execution_count": null,
   "metadata": {},
   "outputs": [],
   "source": [
    "#r \"nuget:AresLazarus.FsKaggle\""
   ]
  },
  {
   "cell_type": "markdown",
   "metadata": {},
   "source": [
    "# Quick start\n",
    "\n",
    "If you're already setup with a kaggle account and the <code>kaggle.json</code> file is under *~/.kaggle*, you can just declare the name of the dataset and the dataset owner and sit back while the requested dataset zip is downloaded to the current directory."
   ]
  },
  {
   "cell_type": "markdown",
   "metadata": {},
   "source": [
    "<div class=\"alert alert-info\" style=\"display:flex; align-items: center\"><i class=\"fa fa-exclamation-triangle fa-2x\" style=\"margin: .3em\"></i> <span>You need to use the <code>FsKaggle.Interop</code> namespace to access the C# API, assuming you don't want to have to work around algebraic types and other F# dark magic.</span></div>"
   ]
  },
  {
   "cell_type": "code",
   "execution_count": null,
   "metadata": {},
   "outputs": [],
   "source": [
    "using FsKaggle.Interop;\n",
    "\n",
    "var options = new DatasetInfo { Owner = \"dataset-owner\", Dataset = \"dataset-name\" };\n",
    "\n",
    "// If you are just trying things out, consider using the Request parameter to target \n",
    "// a specific file from the dataset to reduce the waiting.\n",
    "await Kaggle.DownloadDatasetAsync(options);    "
   ]
  },
  {
   "cell_type": "markdown",
   "metadata": {},
   "source": [
    "# Extended options \n",
    "\n",
    "You can also call <code>Kaggle.DownloadDatasetAsync</code> using <code>FsKaggle.DownloadDatasetOptions</code>, which allows further customization:"
   ]
  },
  {
   "cell_type": "code",
   "execution_count": null,
   "metadata": {},
   "outputs": [],
   "source": [
    "using System.IO;\n",
    "\n",
    "if (!Directory.Exists(\"Data\")) \n",
    "    Directory.CreateDirectory(\"Data\");\n",
    "\n",
    "var advancedOptions = new DownloadDatasetOptions {\n",
    "    DatasetInfo = options,\n",
    "    KaggleJsonPath = @\"C:\\Credentials\\kaggle.json\",\n",
    "    DestinationFolder = \"Data\",\n",
    "    ReportingCallback = FsKaggle.Reporter.ProgressBar,\n",
    "    Overwrite = true\n",
    "};"
   ]
  },
  {
   "cell_type": "markdown",
   "metadata": {},
   "source": [
    "* **DatasetInfo**: The dataset options, see above.\n",
    "* **Credentials**: Where to look the API key info. Default is <em> \"~/.kaggle/kaggle.json\"</em>. \n",
    "* **DestinationFolder**: Send incoming files to some other existing directory. Default is current.\n",
    "* **Overwrite**: Default is false, otherwise any existing file with the same name will be overwritten without confirmation.\n",
    "* **CancellationToken**: In case you think you might need to manually stop the download.\n",
    "* **ReportingCallback**: Implement a custom progress reporter by inserting your own handler. Default is <code>FsKaggle.Reporter.ProgressBar</code>"
   ]
  },
  {
   "cell_type": "markdown",
   "metadata": {},
   "source": [
    "# Setup a custom progress tracker\n",
    "\n",
    "(default progress tracker at <code>FsKaggle.Reporter.ProgressBar</code>)\n",
    "\n",
    "Waiting for kaggle data to travel over the net can be tedious, so consider the reporting callback property to visualise your progress or even make a rough estimation of the time remaining.\n",
    "\n",
    "All you need is a function that takes an FsKaggle.ProgressData argument, which is an F# record that looks like this:\n",
    "\n",
    "<code>type ProgressData = { TimeStamp: DateTime; Notes: string; BytesRead: int64; TotalBytes: int64; BytesPerSecond: float }</code>"
   ]
  },
  {
   "cell_type": "code",
   "execution_count": null,
   "metadata": {},
   "outputs": [],
   "source": [
    "using FsKaggle;\n",
    "using System;\n",
    "\n",
    "// A log of progress reports.\n",
    "var report = new List<ProgressData>();\n",
    "\n",
    "// A progress reporting function\n",
    "void simpleProgressTracking(ProgressData data) {\n",
    "    report.Add(data);\n",
    "        \n",
    "    var percent = (int)(Math.Ceiling(100.0*data.BytesRead/data.TotalBytes));\n",
    "    \n",
    "    var bar = \"[\".PadRight(percent,'|') + \"]\".PadLeft(100-percent, ' ');\n",
    "    \n",
    "    var status = $\"{percent}% @ {Math.Round(data.BytesPerSecond/1024,2)}KB/s\";\n",
    "    \n",
    "    // Since it considers only the latest speed, this metric is likely to fluctuate wildly.\n",
    "    var remainingTime = TimeSpan.FromSeconds((data.TotalBytes - data.BytesRead)/data.BytesPerSecond);\n",
    "    \n",
    "    // We end the string with a carriage return (\\r) so it updates the same line\n",
    "    // instead of adding a line every iteration.\n",
    "    Console.Write($\"{bar} {status} {remainingTime.ToString(\"mm\\\\:ss\")}\\r\");\n",
    "}"
   ]
  },
  {
   "cell_type": "code",
   "execution_count": null,
   "metadata": {},
   "outputs": [],
   "source": [
    "await Kaggle.DownloadDatasetAsync(\n",
    "    new DownloadDatasetOptions \n",
    "    {\n",
    "        DatasetInfo = options, \n",
    "        ReportingCallback = simpleProgressTracking, \n",
    "        Overwrite = true \n",
    "    });"
   ]
  },
  {
   "cell_type": "markdown",
   "metadata": {},
   "source": [
    "# Obligatory jupyter notebook data plot\n",
    "\n",
    "Oh so that's why we logged the progress reports..."
   ]
  },
  {
   "cell_type": "code",
   "execution_count": null,
   "metadata": {},
   "outputs": [],
   "source": [
    "using XPlot.Plotly;\n",
    "using System.Linq;\n",
    "\n",
    "Chart.Plot(\n",
    "    new Graph.Scatter\n",
    "    { \n",
    "        name = \"Bytes/sec\", \n",
    "        showlegend=true,\n",
    "        x = report.Select(r => r.TimeStamp), \n",
    "        y = report.Select(r => r.BytesPerSecond), \n",
    "        fill=\"tozeroy\"\n",
    "    })"
   ]
  },
  {
   "cell_type": "code",
   "execution_count": null,
   "metadata": {},
   "outputs": [],
   "source": []
  }
 ],
 "metadata": {
  "kernelspec": {
   "display_name": ".NET (C#)",
   "language": "C#",
   "name": ".net-csharp"
  },
  "language_info": {
   "file_extension": ".cs",
   "mimetype": "text/x-csharp",
   "name": "C#",
   "pygments_lexer": "csharp",
   "version": "8.0"
  }
 },
 "nbformat": 4,
 "nbformat_minor": 2
}
