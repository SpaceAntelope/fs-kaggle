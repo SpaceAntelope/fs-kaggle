{
 "cells": [
  {
   "cell_type": "code",
   "execution_count": 1,
   "metadata": {},
   "outputs": [],
   "source": [
    "#r \"nuget:TaskBuilder.fs,2.1.0\""
   ]
  },
  {
   "cell_type": "code",
   "execution_count": 2,
   "metadata": {},
   "outputs": [
    {
     "data": {
      "text/html": [
       "Installed package TaskBuilder.fs version 2.1.0"
      ]
     },
     "metadata": {},
     "output_type": "display_data"
    }
   ],
   "source": [
    "#r @\"..\\FsKaggle\\bin\\Debug\\netstandard2.1\\FsKaggle.dll\"\n",
    "open FsKaggle"
   ]
  },
  {
   "cell_type": "markdown",
   "metadata": {},
   "source": [
    "# Minimum code needed to get things going\n",
    "\n",
    "If you're already setup with a kaggle account and the <code>kaggle.json</code> file is under *~/.kaggle*, you can just declare the name of the dataset and the dataset owner and sit back while the requested dataset zip is downloaded to the current directory."
   ]
  },
  {
   "cell_type": "code",
   "execution_count": null,
   "metadata": {},
   "outputs": [],
   "source": [
    "open FsKaggle\n",
    "\n",
    "{ Owner = \"selfishgene\"\n",
    "  Dataset = \"historical-hourly-weather-data\"\n",
    "  Request = Filename \"temperature.csv\" }\n",
    "|> Kaggle.DownloadDatasetAsync  \n",
    "|> Async.RunSynchronously"
   ]
  },
  {
   "cell_type": "markdown",
   "metadata": {},
   "source": [
    "<style>.alert-content{ display:flex; align-items: center; }</style>\n",
    "<div class=\"alert alert-info\" style=\".alert-content\"><i class=\"fa fa-info-circle fa-2x\" style=\"margin: .3em\"></i> <span>To download the entire dataset as a zip use <code>Request = All</code></span></div>"
   ]
  },
  {
   "cell_type": "markdown",
   "metadata": {},
   "source": [
    "# Extended options \n",
    "\n",
    "You can also call <code>Kaggle.DownloadDatasetAsync</code> using <code>FsKaggle.DownloadDatasetOptions</code>, which allows further customization:"
   ]
  },
  {
   "cell_type": "code",
   "execution_count": null,
   "metadata": {},
   "outputs": [],
   "source": [
    "open System.Threading\n",
    "\n",
    "type DownloadDatasetOptions =\n",
    "    { DatasetInfo: DatasetInfo\n",
    "      Credentials: CredentialsSource\n",
    "      DestinationFolder: string\n",
    "      Overwrite: bool\n",
    "      CancellationToken: CancellationToken option\n",
    "      ReportingCallback: (ProgressData -> unit) option }"
   ]
  },
  {
   "cell_type": "markdown",
   "metadata": {},
   "source": [
    "* **DatasetInfo**: The dataset options, see above.\n",
    "* **Credentials**: Where to look the API key info. Default is <code>Path \"~/.kaggle/kaggle.json\"</code>. \n",
    "* **DestinationFolder**: Send incoming files to some other existing directory. Default is current.\n",
    "* **Overwrite**: Default is false, otherwise any existing file with the same name will be overwritten without confirmation.\n",
    "* **CancellationToken**: In case you think you might need to manually stop the download.\n",
    "* **ReportingCallback**: Implement a custom progress reporter by inserting your own handler. Default is <code>FsKaggle.Reporter.ProgressBar</code>"
   ]
  },
  {
   "cell_type": "markdown",
   "metadata": {},
   "source": [
    "## Explicitly setting all extended options:"
   ]
  },
  {
   "cell_type": "code",
   "execution_count": 35,
   "metadata": {},
   "outputs": [
    {
     "data": {
      "text/html": [
       "<table><thead><tr><th>DatasetInfo</th><th>Credentials</th><th>DestinationFolder</th><th>Overwrite</th><th>CancellationToken</th><th>ReportingCallback</th></tr></thead><tbody><tr><td>{ FsKaggle.DatasetInfo: Owner: selfishgene, Dataset: historical-hourly-weather-data, Request: { FsKaggle.DatasetFile+Filename: Item: temperature.csv, Tag: 0, IsFilename: True, IsAll: False } }</td><td>{ FsKaggle.CredentialsSource+Path: Item: kaggle.json, Tag: 0, IsPath: True, IsSource: False, IsCreds: False, IsClient: False }</td><td>./Data</td><td>True</td><td>&lt;null&gt;</td><td>{ Microsoft.FSharp.Core.FSharpOption&lt;Microsoft.FSharp.Core.FSharpFunc&lt;FsKaggle.ProgressData,Microsoft.FSharp.Core.Unit&gt;&gt;: Value: { FSI_0039+it@9-6:  } }</td></tr></tbody></table>"
      ]
     },
     "execution_count": 35,
     "metadata": {},
     "output_type": "execute_result"
    }
   ],
   "source": [
    "{ DatasetInfo = \n",
    "    { Owner = \"selfishgene\"\n",
    "      Dataset = \"historical-hourly-weather-data\"\n",
    "      Request = Filename \"temperature.csv\" }\n",
    "  Credentials = CredentialsSource.Path \"kaggle.json\"\n",
    "  DestinationFolder = \"./Data\"\n",
    "  Overwrite = true\n",
    "  CancellationToken = None\n",
    "  ReportingCallback = Some Reporter.ProgressBar }"
   ]
  },
  {
   "cell_type": "markdown",
   "metadata": {},
   "source": [
    "## Partially setting extended options:"
   ]
  },
  {
   "cell_type": "code",
   "execution_count": 15,
   "metadata": {},
   "outputs": [],
   "source": [
    "let datasetOptions = \n",
    "    { Owner = \"selfishgene\"\n",
    "      Dataset = \"historical-hourly-weather-data\"\n",
    "      Request = Filename \"temperature.csv\" }\n",
    "\n",
    "let extended = { datasetOptions.Extended() with Overwrite = true }\n",
    "\n",
    "(* or *)\n",
    "\n",
    "let extended' = { DownloadDatasetOptions.Default datasetOptions with DestinationFolder = \"./Data\" }"
   ]
  },
  {
   "cell_type": "markdown",
   "metadata": {},
   "source": [
    "# Setup a custom progress tracker\n",
    "\n",
    "(default progress tracker at <code>FsKaggle.Reporter.ProgressBar</code>)\n",
    "\n",
    "Waiting for kaggle data to travel over the net can be tedious, so consider the reporting callback property to visualise your progress or even make a rough estimation of the time remaining.\n",
    "\n",
    "All you need is a function that takes an FsKaggle.ProgressData argument, which is an F# record that looks like this:\n",
    "\n",
    "<code>type ProgressData = { TimeStamp: DateTime; Notes: string; BytesRead: int64; TotalBytes: int64; BytesPerSecond: float }</code>\n",
    "\n",
    "## Example reporting function"
   ]
  },
  {
   "cell_type": "code",
   "execution_count": 16,
   "metadata": {},
   "outputs": [],
   "source": [
    "open FsKaggle\n",
    "open System\n",
    "\n",
    "let report = ResizeArray<ProgressData>()\n",
    "let simpleProgressTracking data =\n",
    "    report.Add data\n",
    "    \n",
    "    let percent = int (100L * data.BytesRead / data.TotalBytes)\n",
    "    let bar = \"[\".PadRight(percent,'|') + \"]\".PadLeft(100-percent, ' ')\n",
    "    let status = sprintf \"%d%% @ %.02fKB/s\" percent (float data.BytesPerSecond/1024.0)\n",
    "    let remainingTime = TimeSpan.FromSeconds(float (data.TotalBytes - data.BytesRead) / float data.BytesPerSecond);\n",
    "\n",
    "    Console.Write(sprintf \"%s %s %s\\r\" bar status (remainingTime.ToString(\"mm\\\\:ss\")))    "
   ]
  },
  {
   "cell_type": "code",
   "execution_count": 19,
   "metadata": {},
   "outputs": [
    {
     "name": "stdout",
     "output_type": "stream",
     "text": [
      "[|||||||||||||||||||||||||||||||||||||||||||||||||||||||||||||||||||||||||||||||||||||||||||||||||||] 100% @ 1263.90KB/s 00:00\r"
     ]
    },
    {
     "data": {
      "text/html": [
       "<null>"
      ]
     },
     "execution_count": 19,
     "metadata": {},
     "output_type": "execute_result"
    }
   ],
   "source": [
    "open System.IO\n",
    "\n",
    "if (Directory.Exists>>not) \"Data\"\n",
    "then \n",
    "    Directory.CreateDirectory \"Data\"\n",
    "    |> ignore\n",
    "\n",
    "{ datasetOptions.Extended() with \n",
    "    DestinationFolder = \"Data\"    \n",
    "    ReportingCallback = Some simpleProgressTracking }\n",
    "|> Kaggle.DownloadDatasetAsync\n",
    "|> Async.RunSynchronously"
   ]
  },
  {
   "cell_type": "markdown",
   "metadata": {},
   "source": [
    "# Obligatory jupyter notebook data plot\n",
    "\n",
    "Oh so that's why we logged the progress reports..."
   ]
  },
  {
   "cell_type": "code",
   "execution_count": 32,
   "metadata": {
    "scrolled": false
   },
   "outputs": [
    {
     "data": {
      "text/html": [
       "<div id=\"d1e136ae-29c3-475e-bdf4-29d954e61462\" style=\"width: 900px; height: 500px;\"></div>\r\n",
       "<script type=\"text/javascript\">\r\n",
       "\r\n",
       "var renderPlotly = function() {\r\n",
       "    var xplotRequire = requirejs.config({context:'xplot-3.0.1',paths:{plotly:'https://cdn.plot.ly/plotly-1.49.2.min'}});\r\n",
       "    xplotRequire(['plotly'], function(Plotly) {\r\n",
       "\n",
       "            var data = [{\"type\":\"scatter\",\"showlegend\":true,\"x\":[\"2020-02-10T23:11:22.5321496+02:00\",\"2020-02-10T23:11:22.9361532+02:00\",\"2020-02-10T23:11:23.3203968+02:00\",\"2020-02-10T23:11:23.6869903+02:00\",\"2020-02-10T23:11:24.0473394+02:00\",\"2020-02-10T23:11:24.4254576+02:00\",\"2020-02-10T23:11:24.7996659+02:00\",\"2020-02-10T23:11:25.1656812+02:00\",\"2020-02-10T23:11:25.5342387+02:00\",\"2020-02-10T23:11:25.9081845+02:00\",\"2020-02-10T23:11:26.3313064+02:00\",\"2020-02-10T23:11:26.712448+02:00\",\"2020-02-10T23:11:26.9785537+02:00\"],\"y\":[406091.3282734239,672916.1023527277,746687.1011708585,789137.3418008445,935585.8089590635,1041020.9638582924,1095771.6749977595,1120334.1746780407,801052.598412193,789463.7513287695,1046374.2425715419,1118949.891751979,1294233.2538851874],\"fill\":\"tozeroy\",\"name\":\"Bytes/sec\"}];\n",
       "            var layout = \"\";\n",
       "            Plotly.newPlot('d1e136ae-29c3-475e-bdf4-29d954e61462', data, layout);\n",
       "        \r\n",
       "});\r\n",
       "};\r\n",
       "if ((typeof(requirejs) !==  typeof(Function)) || (typeof(requirejs.config) !== typeof(Function))) { \r\n",
       "    var script = document.createElement(\"script\"); \r\n",
       "    script.setAttribute(\"src\", \"https://cdnjs.cloudflare.com/ajax/libs/require.js/2.3.6/require.min.js\"); \r\n",
       "    script.onload = function(){\r\n",
       "        renderPlotly();\r\n",
       "    };\r\n",
       "    document.getElementsByTagName(\"head\")[0].appendChild(script); \r\n",
       "}\r\n",
       "else {\r\n",
       "    renderPlotly();\r\n",
       "}\r\n",
       "</script>\r\n"
      ]
     },
     "execution_count": 32,
     "metadata": {},
     "output_type": "execute_result"
    }
   ],
   "source": [
    "open XPlot.Plotly\n",
    "\n",
    "Scatter(\n",
    "    name = \"Bytes/sec\",\n",
    "    showlegend = true,\n",
    "    x = (report |> Seq.map (fun r -> r.TimeStamp)),\n",
    "    y = (report |> Seq.map (fun r -> r.BytesPerSecond)),\n",
    "    fill = \"tozeroy\")\n",
    "|> Chart.Plot    "
   ]
  },
  {
   "cell_type": "code",
   "execution_count": null,
   "metadata": {},
   "outputs": [],
   "source": []
  }
 ],
 "metadata": {
  "kernelspec": {
   "display_name": ".NET (F#)",
   "language": "F#",
   "name": ".net-fsharp"
  },
  "language_info": {
   "file_extension": ".fs",
   "mimetype": "text/x-fsharp",
   "name": "C#",
   "pygments_lexer": "fsharp",
   "version": "4.5"
  }
 },
 "nbformat": 4,
 "nbformat_minor": 2
}
