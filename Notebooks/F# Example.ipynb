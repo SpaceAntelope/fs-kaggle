{
 "cells": [
  {
   "cell_type": "code",
   "execution_count": null,
   "metadata": {},
   "outputs": [],
   "source": [
    "#r \"nuget:AresLazarus.FsKaggle\"\n",
    "open FsKaggle // "
   ]
  },
  {
   "cell_type": "markdown",
   "metadata": {},
   "source": [
    "# Quick start\n",
    "\n",
    "If you're already setup with a kaggle account and the <code>kaggle.json</code> file is under *~/.kaggle*, you can just declare the name of the dataset and the dataset owner and sit back while the requested dataset zip is downloaded to the current directory."
   ]
  },
  {
   "cell_type": "code",
   "execution_count": null,
   "metadata": {},
   "outputs": [],
   "source": [
    "open FsKaggle\n",
    "\n",
    "{ Owner = \"dataset-owner\"\n",
    "  Dataset = \"dataset-name\"\n",
    "  Request = Filename \"dataset-file.csv\" }\n",
    "|> Kaggle.DownloadDatasetAsync  \n",
    "|> Async.RunSynchronously"
   ]
  },
  {
   "cell_type": "markdown",
   "metadata": {},
   "source": [
    "<style>.alert-content{ display:flex; align-items: center; }</style>\n",
    "<div class=\"alert alert-info\" style=\".alert-content\"><i class=\"fa fa-info-circle fa-2x\" style=\"margin: .3em\"></i> <span>To download the entire dataset as a zip use <code>Request = All</code></span></div>"
   ]
  },
  {
   "cell_type": "markdown",
   "metadata": {},
   "source": [
    "# Extended options \n",
    "\n",
    "You can also call <code>Kaggle.DownloadDatasetAsync</code> using <code>FsKaggle.DownloadDatasetOptions</code>, which allows further customization:"
   ]
  },
  {
   "cell_type": "code",
   "execution_count": null,
   "metadata": {},
   "outputs": [],
   "source": [
    "open System.Threading\n",
    "\n",
    "type DownloadDatasetOptions =\n",
    "    { DatasetInfo: DatasetInfo\n",
    "      Credentials: CredentialsSource\n",
    "      DestinationFolder: string\n",
    "      Overwrite: bool\n",
    "      CancellationToken: CancellationToken option\n",
    "      ReportingCallback: (ProgressData -> unit) option }"
   ]
  },
  {
   "cell_type": "markdown",
   "metadata": {},
   "source": [
    "* **DatasetInfo**: The dataset options, see above.\n",
    "* **Credentials**: Where to look the API key info. Default is <code>Path \"~/.kaggle/kaggle.json\"</code>. \n",
    "* **DestinationFolder**: Send incoming files to some other existing directory. Default is current.\n",
    "* **Overwrite**: Default is false, otherwise any existing file with the same name will be overwritten without confirmation.\n",
    "* **CancellationToken**: In case you think you might need to manually stop the download.\n",
    "* **ReportingCallback**: Implement a custom progress reporter by inserting your own handler. Default is <code>FsKaggle.Reporter.ProgressBar</code>"
   ]
  },
  {
   "cell_type": "markdown",
   "metadata": {},
   "source": [
    "## Partially setting extended options:\n",
    "To set only what you need you can get the default <code>DownloadDatasetOption</code> record from any <code>DatasetInfo</code> instance and use record cloning:"
   ]
  },
  {
   "cell_type": "code",
   "execution_count": null,
   "metadata": {},
   "outputs": [],
   "source": [
    "let datasetOptions = \n",
    "    { Owner = \"owner\"\n",
    "      Dataset = \"dataset\"\n",
    "      Request = DatasetFile.All }\n",
    "\n",
    "{ datasetOptions.Extended() with Overwrite = true }"
   ]
  },
  {
   "cell_type": "markdown",
   "metadata": {},
   "source": [
    "# Setup a custom progress tracker\n",
    "\n",
    "(default progress tracker at <code>FsKaggle.Reporter.ProgressBar</code>)\n",
    "\n",
    "Waiting for kaggle data to travel over the net can be tedious, so consider the reporting callback property to visualise your progress or even make a rough estimation of the time remaining.\n",
    "\n",
    "All you need is a function that takes an FsKaggle.ProgressData argument, which is an F# record that looks like this:\n",
    "\n",
    "<code>type ProgressData = { TimeStamp: DateTime; Notes: string; BytesRead: int64; TotalBytes: int64; BytesPerSecond: float }</code>\n",
    "\n",
    "## Example reporting function"
   ]
  },
  {
   "cell_type": "code",
   "execution_count": null,
   "metadata": {},
   "outputs": [],
   "source": [
    "open FsKaggle\n",
    "open System\n",
    "\n",
    "let report = ResizeArray<ProgressData>()\n",
    "let simpleProgressTracking data =\n",
    "    report.Add data\n",
    "    \n",
    "    let percent = int (100L * data.BytesRead / data.TotalBytes)\n",
    "    let bar = \"[\".PadRight(percent,'|') + \"]\".PadLeft(100-percent, ' ')\n",
    "    let status = sprintf \"%d%% @ %.02fKB/s\" percent (float data.BytesPerSecond/1024.0)\n",
    "    let remainingTime = TimeSpan.FromSeconds(float (data.TotalBytes - data.BytesRead) / float data.BytesPerSecond);\n",
    "\n",
    "    Console.Write(sprintf \"%s %s %s\\r\" bar status (remainingTime.ToString(\"mm\\\\:ss\")))    "
   ]
  },
  {
   "cell_type": "code",
   "execution_count": null,
   "metadata": {},
   "outputs": [],
   "source": [
    "open System.IO\n",
    "\n",
    "if (Directory.Exists>>not) \"Data\"\n",
    "then \n",
    "    Directory.CreateDirectory \"Data\"\n",
    "    |> ignore\n",
    "\n",
    "{ datasetOptions.Extended() with \n",
    "    DestinationFolder = \"Data\"    \n",
    "    ReportingCallback = Some simpleProgressTracking }\n",
    "|> Kaggle.DownloadDatasetAsync\n",
    "|> Async.RunSynchronously"
   ]
  },
  {
   "cell_type": "markdown",
   "metadata": {},
   "source": [
    "# Obligatory jupyter notebook data plot\n",
    "\n",
    "Oh so that's why we logged the progress reports..."
   ]
  },
  {
   "cell_type": "code",
   "execution_count": null,
   "metadata": {
    "scrolled": false
   },
   "outputs": [],
   "source": [
    "open XPlot.Plotly\n",
    "\n",
    "Scatter(\n",
    "    name = \"Bytes/sec\",\n",
    "    showlegend = true,\n",
    "    x = (report |> Seq.map (fun r -> r.TimeStamp)),\n",
    "    y = (report |> Seq.map (fun r -> r.BytesPerSecond)),\n",
    "    fill = \"tozeroy\")\n",
    "|> Chart.Plot    "
   ]
  }
 ],
 "metadata": {
  "kernelspec": {
   "display_name": ".NET (F#)",
   "language": "F#",
   "name": ".net-fsharp"
  },
  "language_info": {
   "file_extension": ".fs",
   "mimetype": "text/x-fsharp",
   "name": "C#",
   "pygments_lexer": "fsharp",
   "version": "4.5"
  }
 },
 "nbformat": 4,
 "nbformat_minor": 2
}