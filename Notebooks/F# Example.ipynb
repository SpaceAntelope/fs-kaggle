{
 "cells": [
  {
   "cell_type": "code",
   "execution_count": 1,
   "metadata": {},
   "outputs": [],
   "source": [
    "#r \"nuget:TaskBuilder.fs,2.1.0\""
   ]
  },
  {
   "cell_type": "code",
   "execution_count": 4,
   "metadata": {},
   "outputs": [],
   "source": [
    "#r @\"..\\bin\\Debug\\netstandard2.0\\FsKaggle.dll\"\n",
    "open FsKaggle"
   ]
  },
  {
   "cell_type": "markdown",
   "metadata": {},
   "source": [
    "# Minimum code needed to get things going\n",
    "\n",
    "If you're already setup with a kaggle account and the <code>kaggle.json</code> file is under *~/.kaggle*, you can just declare the name of the dataset and the dataset owner and sit back while the requested dataset zip is downloaded to the current directory."
   ]
  },
  {
   "cell_type": "code",
   "execution_count": 5,
   "metadata": {},
   "outputs": [
    {
     "ename": "Unhandled exception",
     "evalue": "input.fsx (1,3)-(1,8) typecheck error The record label 'Owner' is not defined.\ninput.fsx (4,4)-(4,31) typecheck error A unique overload for method 'DownloadDatasetAsync' could not be determined based on type information prior to this program point. A type annotation may be needed. Candidates: static member Kaggle.DownloadDatasetAsync : options:Kaggle.DatasetInfo -> Async<unit>, static member Kaggle.DownloadDatasetAsync : options:Kaggle.DownloadDatasetOptions -> Async<unit>",
     "output_type": "error",
     "traceback": [
      "input.fsx (1,3)-(1,8) typecheck error The record label 'Owner' is not defined.\ninput.fsx (4,4)-(4,31) typecheck error A unique overload for method 'DownloadDatasetAsync' could not be determined based on type information prior to this program point. A type annotation may be needed. Candidates: static member Kaggle.DownloadDatasetAsync : options:Kaggle.DatasetInfo -> Async<unit>, static member Kaggle.DownloadDatasetAsync : options:Kaggle.DownloadDatasetOptions -> Async<unit>"
     ]
    }
   ],
   "source": [
    "{ Owner = \"selfishgene\"\n",
    "  Dataset = \"historical-hourly-weather-data\"\n",
    "  Request = Filename \"humidity.csv\" }\n",
    "|> Kaggle.DownloadDatasetAsync  "
   ]
  },
  {
   "cell_type": "code",
   "execution_count": null,
   "metadata": {},
   "outputs": [],
   "source": []
  }
 ],
 "metadata": {
  "kernelspec": {
   "display_name": ".NET (F#)",
   "language": "F#",
   "name": ".net-fsharp"
  },
  "language_info": {
   "file_extension": ".fs",
   "mimetype": "text/x-fsharp",
   "name": "C#",
   "pygments_lexer": "fsharp",
   "version": "4.5"
  }
 },
 "nbformat": 4,
 "nbformat_minor": 2
}
